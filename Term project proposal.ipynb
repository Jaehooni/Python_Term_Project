{
 "cells": [
  {
   "cell_type": "markdown",
   "metadata": {},
   "source": [
    "(1)주제 선정 이유 <br>\n",
    "꽤 옛날부터 지금까지 정치 사건 직후, 연예건 사건이 터지는 일이 심심치 않게 있다.<br>\n",
    "이에 따라 사람들이 정치계 사건을 덮기 위해서 고의로 연예계 사건을 터트리는 것 아니냐는 의혹이 계속되어 제기되고 있다.<br> \n",
    "거기다가 이번에 다시금 재점화된 장자연 리스트도 최근 가장 크게 터진 연예계 사건인 버닝썬으로 덮이는 듯 하면서 <br>\n",
    "이러한 의심이 국민의 의심이 극에 달했고, 그래서 나는 이번에 정말로 이러한 연예계 사건을 보도하는 것이 <br>\n",
    "이전에 보도된 정치적 사건에 대한 관심을 줄이는 데 정말 효과적인 것인지 궁금하여 <br>\n",
    "\"연예계 사건 보도가 정말 정치적 사건에 대한 관심 분산에 효과적인가? 에 대해서 조사해보려고 한다.\" <br>\n"
   ]
  },
  {
   "cell_type": "markdown",
   "metadata": {},
   "source": [
    "(2)가설 정의 <br>\n",
    "여러 언론사에서 의심하는 연관된 연예계와 정치계 사건을 찾아, 연예계 사건이 일어나기 전의 정치계 사건에 대한 관심도를 <br>\n",
    "SNS , 올라온 기사 수 등의 여러 항목의 개수로 측정해보고, 이후 연예계 사건이 터지고 나서 <br>\n",
    "같은 측정 방법을 통해 다시 한번 정치계 사건에 대한 관심도를 측정하였을 시에, <br>\n",
    "연예계 사건이 터지기 전보다 전체적인 개수가 줄어들었을 것이다. <br>"
   ]
  },
  {
   "cell_type": "markdown",
   "metadata": {},
   "source": [
    "(3) 인터넷을 통한 데이터 획득 <br>\n",
    "먼저 Google 검색을 이용해 여러 언론사 및 개인이 연관되어 있다고 주장하는 연예계와 정치계 사건을 찾아보고 <br>\n",
    "각 기사별로 하나의 그룹을 지어서 네이버 뉴스, 페이스북, 트위터 등의 사이트를 이용해 매일 마다 사건 및 게시물 \n",
    "데이터들을 모을 것입니다. <br>\n",
    "먼저 페이스북과 트위터 같은 SNS 같은 경우에는 Python의 다양한 부가기능을 이용하여 각 기사에 대한 게시글 및 트윗을\n",
    "직접 찾아보면서 일반 시민들의 관심도에 대해서 측정해볼 것입니다. <br>\n",
    "이를 위해서 <br>\n",
    "https://towardsdatascience.com/creating-the-twitter-sentiment-analysis-program-in-python-with-naive-bayes-classification-672e5589a7ed <br>\n",
    "와 같은 게시글들을 통해 Python을 이용하여 트위터를 분석할 것입니다. <br>\n",
    "그 밖에 직접 네이버 뉴스 등을 통해 사건이 터진 날의 주변 날들의 기사들을 전부 크롤링하여 특정 단어가 언급된\n",
    "기사들을 찾아보면서 특정 기사에 대한 뉴스를 찾아볼 생각입니다. <br>"
   ]
  }
 ],
 "metadata": {
  "kernelspec": {
   "display_name": "Python 3",
   "language": "python",
   "name": "python3"
  },
  "language_info": {
   "codemirror_mode": {
    "name": "ipython",
    "version": 3
   },
   "file_extension": ".py",
   "mimetype": "text/x-python",
   "name": "python",
   "nbconvert_exporter": "python",
   "pygments_lexer": "ipython3",
   "version": "3.7.3"
  }
 },
 "nbformat": 4,
 "nbformat_minor": 2
}
