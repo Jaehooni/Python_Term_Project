{
 "cells": [
  {
   "cell_type": "code",
   "execution_count": null,
   "metadata": {},
   "outputs": [],
   "source": [
    "import requests\n",
    "import datetime\n",
    "from bs4 import BeautifulSoup\n",
    "\n",
    "\n",
    "now = datetime.datetime.now()\n",
    "nowDate = now.strftime('%Y.%m.%d')\n",
    "print(nowDate)\n",
    " = datetime.date(2018,1,1)\n",
    "print(from_date)\n",
    "\n",
    "\n",
    "months = []\n",
    "for i in range(1,13):\n",
    "    i = \"%02d\"%i\n",
    "    months.append(i)\n",
    "#months' type : list\n",
    "    \n",
    "days = []\n",
    "for i in range(1,33):\n",
    "    i = \"%02d\"%i\n",
    "    days.append(i)\n",
    "#days' type : list\n",
    "\n",
    "years = ['2018','2019']\n",
    "#years' type : list\n",
    "\n",
    "for year in years:\n",
    "    \n",
    "#year's type : str\n",
    "    \n",
    "    for month in months:\n",
    "        \n",
    "    #month's type : str\n",
    "        \n",
    "        for day in days:\n",
    "           \n",
    "        #day's type : str\n",
    "\n",
    "\n",
    "            search_Sentence = '장자연'\n",
    "            search_Date = '{}.{}.{}'.format(year,month,day)\n",
    "            address = 'https://search.naver.com/search.naver?where=news' + '&query={}&pd=3&ds={}&de={}'.format(search_Sentence,search_Date,search_Date)\n",
    "\n",
    "            print(address)\n",
    "            req = requests.get(address)\n",
    "            html = req.text\n",
    "            soup = BeautifulSoup(html, 'html.parser')\n",
    "            my_titles = soup.select('#main_pack > div.news.mynews.section._prs_nws > div.section_head > div.title_desc.all_my > span')\n",
    "            \n",
    "             if not my_titles:\n",
    "                print('')\n",
    "\n",
    "            else:\n",
    "                print(my_titles[0])\n",
    "           "
   ]
  }
 ],
 "metadata": {
  "kernelspec": {
   "display_name": "Python 3",
   "language": "python",
   "name": "python3"
  },
  "language_info": {
   "codemirror_mode": {
    "name": "ipython",
    "version": 3
   },
   "file_extension": ".py",
   "mimetype": "text/x-python",
   "name": "python",
   "nbconvert_exporter": "python",
   "pygments_lexer": "ipython3",
   "version": "3.7.3"
  }
 },
 "nbformat": 4,
 "nbformat_minor": 2
}
